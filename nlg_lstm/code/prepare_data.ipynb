{
 "cells": [
  {
   "cell_type": "code",
   "execution_count": 1,
   "metadata": {},
   "outputs": [],
   "source": [
    "%load_ext autoreload\n",
    "%autoreload 2\n",
    "import os\n",
    "\n",
    "from helper.utils import  load_json_lines,\\\n",
    "                          create_seq,\\\n",
    "                          tokenize,\\\n",
    "                          get_integer_seq\n",
    "from tqdm import tqdm\n",
    "import torch\n",
    "import numpy as np"
   ]
  },
  {
   "cell_type": "code",
   "execution_count": 2,
   "metadata": {},
   "outputs": [],
   "source": [
    "_DATA_PATH = '/home/taindp/VINBRAIN_INTERNSHIP/nlg_lstm/data'\n",
    "_RESOURCE_PATH = '/home/taindp/VINBRAIN_INTERNSHIP/nlg_lstm/resource'"
   ]
  },
  {
   "cell_type": "code",
   "execution_count": 3,
   "metadata": {},
   "outputs": [],
   "source": [
    "full_kb = load_json_lines(os.path.join(_DATA_PATH,'final_kb.json'))"
   ]
  },
  {
   "cell_type": "code",
   "execution_count": 4,
   "metadata": {},
   "outputs": [],
   "source": [
    "list_sentence = []"
   ]
  },
  {
   "cell_type": "code",
   "execution_count": 5,
   "metadata": {},
   "outputs": [
    {
     "name": "stderr",
     "output_type": "stream",
     "text": [
      "100%|██████████| 398/398 [00:00<00:00, 664543.39it/s]\n"
     ]
    }
   ],
   "source": [
    "for item in tqdm(full_kb):\n",
    "    orig_text = item['original_text']\n",
    "    if orig_text not in list_sentence:\n",
    "        list_sentence.append(orig_text)"
   ]
  },
  {
   "cell_type": "code",
   "execution_count": 6,
   "metadata": {},
   "outputs": [
    {
     "data": {
      "text/plain": [
       "['ung thư gan là ung thư bắt đầu trong các tế bào của gan của bạn. gan của bạn là một cơ quan có kích thước bóng đá nằm ở phần trên bên phải của bụng, bên dưới cơ hoành của bạn và trên dạ dày của bạn',\n",
       " 'hầu hết mọi người không có dấu hiệu và triệu chứng trong giai đoạn đầu của ung thư gan nguyên phát. khi các dấu hiệu và triệu chứng xuất hiện, chúng có thể bao gồm: giảm cân mà không cần cố gắng ăn mất ngon đau bụng trên buồn nôn và ói mửa điểm yếu và mệt mỏi chung sưng bụng sự đổi màu vàng của làn da của bạn và lòng trắng mắt của bạn (vàng da) phân trắng, phấn',\n",
       " 'loại ung thư gan phổ biến nhất là ung thư biểu mô tế bào gan, bắt đầu trong loại tế bào gan chính (heptocyte)',\n",
       " 'các loại ung thư gan khác, chẳng hạn như cholangiocarcinoma trong não và hepatoblastoma, ít phổ biến hơn nhiều',\n",
       " 'nhiễm trùng mãn tính với virus viêm gan b (hbv) hoặc virus viêm gan c (hcv) làm tăng nguy cơ ung thư gan của bạn',\n",
       " 'điều kiện tiến triển và không thể đảo ngược này gây ra mô sẹo hình thành trong gan của bạn và làm tăng cơ hội phát triển ung thư gan của bạn',\n",
       " 'bệnh gan có thể làm tăng nguy cơ ung thư gan bao gồm hemochromatosis và bệnh wilson',\n",
       " 'những người mắc chứng rối loạn đường huyết này có nguy cơ ung thư gan cao hơn những người không mắc bệnh tiểu đường',\n",
       " 'tích lũy chất béo trong gan làm tăng nguy cơ ung thư gan.',\n",
       " 'aflatoxin là các chất độc được sản xuất bởi các khuôn phát triển trên cây trồng được lưu trữ kém. cây trồng, chẳng hạn như ngũ cốc và hạt, có thể bị nhiễm aflatoxin, có thể kết thúc trong thực phẩm làm từ các sản phẩm này',\n",
       " 'tiêu thụ nhiều hơn một lượng rượu vừa phải hàng ngày trong nhiều năm có thể dẫn đến tổn thương gan không hồi phục và tăng nguy cơ ung thư gan của bạn',\n",
       " 'ung thư gan xảy ra khi các tế bào gan phát triển thay đổi (đột biến) trong dna của họ. dna của một tế bào là vật liệu cung cấp hướng dẫn cho mọi quá trình hóa học trong cơ thể bạn. đột biến dna gây ra những thay đổi trong các hướng dẫn này. một kết quả là các tế bào có thể bắt đầu phát triển ngoài tầm kiểm soát và cuối cùng tạo thành một khối u - một khối tế bào ung thư',\n",
       " 'nếu bạn chọn uống rượu, hãy giới hạn số lượng bạn uống. đối với phụ nữ, điều này có nghĩa là không quá một lần uống mỗi ngày. dành cho nam giới, điều này có nghĩa là không quá hai ly mỗi ngày',\n",
       " 'nếu trọng lượng hiện tại của bạn khỏe mạnh, hãy làm việc để duy trì nó bằng cách chọn một chế độ ăn uống lành mạnh và tập thể dục hầu hết các ngày trong tuần. nếu bạn cần giảm cân, giảm số lượng calo bạn ăn mỗi ngày và tăng lượng bài tập bạn làm. nhằm mục đích giảm cân từ từ - 1 hoặc 2 pounds (0,5 đến 1 kg) mỗi tuần',\n",
       " 'bạn có thể giảm nguy cơ viêm gan b bằng cách tiêm vắc-xin viêm gan b. vắc-xin có thể được tiêm cho hầu hết mọi người, bao gồm cả trẻ sơ sinh, người lớn tuổi và những người có hệ thống miễn dịch bị tổn thương',\n",
       " 'không có vắc-xin viêm gan c tồn tại, nhưng bạn có thể giảm nguy cơ nhiễm trùng. biết tình trạng sức khỏe của bất kỳ bạn tình nào không sử dụng thuốc tiêm tĩnh mạch (iv), nhưng nếu bạn làm, hãy sử dụng kim sạch tìm kiếm các cửa hàng an toàn, sạch sẽ khi bị đâm hoặc xăm',\n",
       " 'xét nghiệm máu có thể tiết lộ bất thường chức năng gan',\n",
       " 'bác sĩ của bạn có thể đề nghị các bài kiểm tra hình ảnh, chẳng hạn như siêu âm, ct và mri',\n",
       " 'đôi khi cần phải loại bỏ một miếng khăn gan để thử nghiệm trong phòng thí nghiệm để chẩn đoán ung thư gan dứt khoát',\n",
       " 'một phẫu thuật cắt gan được thực hiện để loại bỏ một phần gan hoặc tất cả các gan. phẫu thuật này thường được thực hiện khi ung thư bị giới hạn ở gan. theo thời gian, các mô khỏe mạnh còn lại sẽ mọc lại và thay thế phần còn thiếu',\n",
       " 'một cấy ghép gan liên quan đến việc thay thế toàn bộ gan bị bệnh bằng gan khỏe mạnh từ một nhà tài trợ phù hợp. cấy ghép chỉ có thể được thực hiện nếu ung thư không lan sang các cơ quan khác. thuốc để ngăn chặn sự từ chối được đưa ra sau khi cấy ghép',\n",
       " 'ablation liên quan đến việc sử dụng thuốc tiêm nhiệt hoặc ethanol để tiêu diệt các tế bào ung thư. nó được thực hiện bằng cách sử dụng gây mê tại địa phương. điều này làm tê liệt khu vực để ngăn bạn cảm thấy bất kỳ đau đớn. ablation có thể giúp những người không phải là ứng cử viên để phẫu thuật hoặc cấy ghép',\n",
       " 'hóa trị là một dạng trị liệu ma túy hung dữ phá hủy các tế bào ung thư. các loại thuốc được tiêm tĩnh mạch, hoặc thông qua tĩnh mạch. trong hầu hết các trường hợp, hóa trị liệu có thể được đưa ra như một phương pháp điều trị ngoại trú. hóa trị có thể có hiệu quả trong việc điều trị ung thư gan, nhưng nhiều người gặp phải tác dụng phụ trong quá trình điều trị, bao gồm nôn mửa, giảm thèm ăn và ớn lạnh. hóa trị cũng có thể làm tăng nguy cơ nhiễm trùng.',\n",
       " 'liệu pháp xạ trị liên quan đến việc sử dụng dầm bức xạ năng lượng cao để tiêu diệt các tế bào ung thư. nó có thể được cung cấp bởi bức xạ chùm bên ngoài hoặc bằng bức xạ bên trong. trong bức xạ dầm bên ngoài, bức xạ nhắm vào bụng và ngực. bức xạ nội bộ liên quan đến việc sử dụng ống thông để tiêm các quả cầu phóng xạ nhỏ vào động mạch gan. bức xạ sau đó phá hủy động mạch gan, một mạch máu cung cấp máu cho gan. điều này làm giảm lượng máu chảy vào khối u. khi động mạch gan bị đóng lại, tĩnh mạch cổng tiếp tục nuôi dưỡng gan.',\n",
       " 'liệu pháp nhắm mục tiêu liên quan đến việc sử dụng thuốc được thiết kế để bắn các tế bào ung thư nơi chúng dễ bị tổn thương. họ làm giảm sự phát triển của khối u và giúp ngừng cung cấp máu cho khối u. sorafenib (nexavar) đã được phê duyệt là liệu pháp mục tiêu cho những người mắc bệnh ung thư gan. liệu pháp nhắm mục tiêu có thể hữu ích cho những người không phải là ứng cử viên cho một ca ghép gan hoặc ghép gan. điều trị được nhắm mục tiêu, tuy nhiên, có tác dụng phụ đáng kể',\n",
       " 'thuyền và hóa trị là thủ tục phẫu thuật. họ đã hoàn thành để chặn động mạch gan. bác sĩ sẽ sử dụng bọt biển nhỏ hoặc các hạt khác để làm điều này. điều này làm giảm lượng máu chảy vào khối u. trong hóa trị học, bác sĩ của bạn tiêm thuốc hóa trị vào động mạch gan trước khi các hạt được tiêm. sự tắc nghẽn được tạo ra giữ thuốc hóa trị liệu trong gan trong một thời gian dài hơn.',\n",
       " 'ung thư trực tràng là ung thư phát triển trong các tế bào trong trực tràng. trực tràng nằm dưới đại tràng sigmoid và phía trên hậu môn',\n",
       " 'một số triệu chứng của ung thư trực tràng có thể là do các điều kiện khác. những triệu chứng này bao gồm: yếu đuối và mệt mỏi thay đổi thèm ăn. giảm cân khó chịu bụng thường xuyên, khí, chuột rút, đau các dấu hiệu và triệu chứng khác của ung thư trực tràng bao gồm: thay đổi trong tần suất bạn có chuyển động ruột cảm thấy rằng ruột của bạn không làm trống hoàn toàn đau khi bạn có một phong trào ruột tiêu chảy hoặc táo bón. máu hoặc chất nhầy trong phân của bạn phân hẹp thiếu máu thiếu sắt',\n",
       " 'phần lớn ung thư trực tràng là adenocarcinoma. đây là một bệnh ung thư các tế bào nằm trên bề mặt bên trong của trực tràng',\n",
       " 'khối u carcinoid bắt đầu trong các tế bào sản xuất hormone trong ruột',\n",
       " 'các khối u sarcomal đường tiêu hóa có thể là một loại sarcoma mô mềm có thể được tìm thấy ở bất cứ đâu trong đường tiêu hóa nhưng rất hiếm ở trực tràng. những khối u này cũng có thể là loại sarcoma khác bắt đầu trong các mạch máu hoặc mô liên kết của đại tràng.',\n",
       " 'ung thư hạch là ung thư hệ thống miễn dịch. nó thường bắt đầu trong các hạch bạch huyết nhưng có thể bắt đầu trong trực tràng',\n",
       " 'khoảng 5 đến 10 phần trăm người bị ung thư đại trực tràng vì đột biến cụ thể trong các gen được truyền từ cha mẹ đến trẻ em, được gọi là di truyền. các chuyên gia của msk có thể cung cấp cho bạn thử nghiệm di truyền để xem bạn có đột biến di truyền trong các gen của mình có thể làm tăng nguy cơ ung thư. cho dù bạn nên xét nghiệm này dựa trên đánh giá rủi ro cá nhân của bạn. tìm hiểu thêm về kiểm tra di truyền cho ung thư đại trực tràng và các loại điều kiện di truyền thường dẫn đến bệnh',\n",
       " 'chẩn đoán thường xảy ra sau 50 tuổi, mặc dù tỷ lệ đang tăng lên ở những người trẻ tuổi',\n",
       " 'người mỹ da đen có nguy cơ cao hơn các nhóm ung thư trực tràng khác. một lý do cho điều này có thể là sự bất bình đẳng trong việc truy cập chăm sóc sức khỏe',\n",
       " 'lịch sử cá nhân hoặc gia đình của ung thư đại trực tràng có thể tăng nguy cơ',\n",
       " 'điều trị bức xạ trước đó vào bụng có thể tăng nguy cơ',\n",
       " 'những sai lầm trong dna có thể khiến các tế bào phát triển ngoài tầm kiểm soát. các tế bào bị lỗi chồng chất để tạo thành khối u. những tế bào này có thể xâm nhập và phá hủy mô khỏe mạnh. điều gì khiến quá trình này không phải lúc nào cũng rõ ràng',\n",
       " 'có một số đột biến gen di truyền có thể làm tăng nguy cơ. một trong số này là ung thư đại trực tràng nonpolyp gây ra, được gọi là hội chứng lynch. rối loạn này làm tăng nguy cơ ruột kết và các bệnh ung thư khác, đặc biệt là trước 50 tuổi',\n",
       " 'một hội chứng như vậy là polyposis adenomatous gia đình. đây là một rối loạn hiếm gặp có thể gây ra polyp trong lớp lót của đại tràng và trực tràng. không cần điều trị, nó có thể làm tăng nguy cơ ung thư ruột kết hoặc trực tràng, đặc biệt là trước 40 tuổi',\n",
       " 'chẳng hạn như xét nghiệm máu và xét nghiệm bộ gen trước',\n",
       " '',\n",
       " 'chẳng hạn như mri, ct quét và siêu âm',\n",
       " 'không ai',\n",
       " 'thalassemia (thal-uh-see-me-uh) là một rối loạn máu di truyền',\n",
       " 'hemoglobin là phân tử protein trong các tế bào hồng cầu mang oxy',\n",
       " 'bạn có thể nghe thấy nó được gọi là những thứ như mùa xuân liên tục, thiếu máu của cooley, hoặc hydrops của hemoglobin bart của thai nhi. đây là những tên phổ biến cho các hình thức khác nhau của nó',\n",
       " 'khiến bạn mệt mỏi',\n",
       " 'một người có một đặc điểm hoặc hình thức nhỏ có thể không có triệu chứng hoặc chỉ là những người nhẹ',\n",
       " 'điều này có thể làm cho chúng rất thiếu máu (mệt mỏi, hơi thở và nhợt nhạt)',\n",
       " 'các dấu hiệu và triệu chứng thalassemia có thể bao gồm: mệt mỏi, yếu, da nhợt nhạt hoặc vàng, biến dạng xương mặt, tăng trưởng chậm, sưng bụng, nước tiểu tối',\n",
       " 'một số trong những cái phổ biến nhất bao gồm: biến dạng xương, đặc biệt là ở mặt, nước tiểu tối, sự tăng trưởng và phát triển trì hoãn, mệt mỏi quá mức và mệt mỏi, màu vàng hoặc làn da nhợt nhạt',\n",
       " 'dấu hiệu rối loạn cũng có xu hướng xuất hiện sau này trong thời thơ ấu hoặc tuổi thiếu niên',\n",
       " 'những thứ này có thể bao gồm: ,, tăng trưởng chậm ở trẻ em, xương rộng hoặc giòn, lá lách mở rộng (một cơ quan trong bụng của bạn lọc máu và chiến đấu với bệnh), mệt mỏi, yếu, làn da nhợt nhạt hoặc vàng, nước tiểu tối, sự thèm ăn kém, vấn đề về tim',\n",
       " 'một số người mắc bệnh thalassemia sẽ không có dấu hiệu nào cả',\n",
       " 'các triệu chứng sẽ không hiển thị cho đến 6 tháng tuổi ở hầu hết trẻ sơ sinh mắc bệnh beta thalassemia và một số loại alpha thalassemia',\n",
       " 'chúng bao gồm: ,, vàng da và da nhợt nhạt, buồn ngủ và mệt mỏi, đau ngực, bàn chân lạnh, khó thở, chuột rút chân, nhịp tim nhanh, cho ăn kém, trì hoãn, đau đầu, chóng mặt và yếu ớt, nhạy cảm với nhiễm trùng lớn, biến dạng xương có thể dẫn đến việc cơ thể cố gắng tạo ra nhiều tủy xương nhiều hơn.',\n",
       " 'một số người cũng có thể trì hoãn tăng trưởng, xương yếu và dễ vỡ (loãng xương) và giảm khả năng sinh sản.',\n",
       " 'trong một số loại này dẫn đến thiếu oxy, dẫn đến thiếu máu và mệt mỏi.',\n",
       " 'thalassemia nhẹ',\n",
       " 'trong alpha thalassemia, ít nhất một trong những gen alpha globin có đột biến hoặc bất thường',\n",
       " 'trong beta thalassemia, gen beta globin bị ảnh hưởng',\n",
       " 'beta thalassemia major là loại nghiêm trọng nhất',\n",
       " 'các loại khác bao gồm beta thalassemia intermedia, alpha thalassemia major và hemoglobin h bệnh',\n",
       " 'nó là phổ biến nhất với tổ tiên địa trung hải, nam á và châu phi',\n",
       " 'nó chủ yếu ảnh hưởng đến người dân địa trung hải, nam á, đông nam á và trung đông nguồn gốc',\n",
       " 'thalassemia xảy ra thường xuyên nhất ở người mỹ gốc phi và ở những người ở vùng trung địa trung hải và đông nam á.',\n",
       " 'thalassemia là nguồn tin cậy phổ biến nhất ở những người từ châu á, trung đông, châu phi và các nước địa trung hải như hy lạp và thổ nhĩ kỳ',\n",
       " 'cơ thể bạn có ít hemoglobin hơn bình thường',\n",
       " 'thiếu máu là một điều kiện trong đó cơ thể bạn không có đủ các tế bào hồng cầu bình thường, khỏe mạnh',\n",
       " 'thalassemia được thừa hưởng, có nghĩa là ít nhất một trong số cha mẹ của bạn phải là người mang mầm bệnh',\n",
       " 'nó gây ra bởi một đột biến di truyền hoặc một sự xóa bỏ một số mảnh gen chính nhất định',\n",
       " 'thalassemia là do đột biến trong dna của các tế bào tạo ra huyết sắc tố - chất trong các tế bào hồng cầu mang oxy khắp cơ thể bạn',\n",
       " 'các đột biến liên quan đến thalassemia được truyền từ cha mẹ đến trẻ em',\n",
       " 'thalassemia là do các gen bị lỗi ảnh hưởng đến việc sản xuất hemoglobin',\n",
       " 'một đứa trẻ chỉ có thể được sinh ra với thalassemia nếu họ thừa hưởng những gen bị lỗi này từ cả cha mẹ',\n",
       " 'nếu bác sĩ của bạn nghi ngờ con bạn bị thalassemia, anh ta hoặc cô ta có thể xác nhận một chẩn đoán với xét nghiệm máu.',\n",
       " 'xét nghiệm máu cũng có thể được sử dụng để phân tích dna để tìm kiếm các gen đột biến',\n",
       " 'thử nghiệm thử nghiệm trước khi sinh có thể được thực hiện trước khi em bé được sinh ra để tìm hiểu xem anh ta hoặc cô ta có thalassemia và xác định mức độ nghiêm trọng của nó như thế nào.',\n",
       " 'các thử nghiệm được sử dụng để chẩn đoán thalassemia trong thai nhi bao gồm: lấy mẫu biệt thự hợp xướng',\n",
       " 'nếu bác sĩ của bạn đang cố gắng chẩn đoán thalassemia, họ sẽ lấy mẫu máu',\n",
       " 'một kỹ thuật viên phòng thí nghiệm cũng sẽ nhìn vào máu dưới kính hiển vi để xem các tế bào hồng cầu có hình dạng kỳ lạ.',\n",
       " 'họ sẽ kiểm tra bạn và sẽ đặt câu hỏi',\n",
       " 'nếu một bác sĩ nghi ngờ thalassemia, bạn sẽ lấy xét nghiệm máu',\n",
       " 'một là một bài kiểm tra cbc (đếm máu hoàn chỉnh)',\n",
       " 'khác là một xét nghiệm điện di huyết sắc tố',\n",
       " 'kiểm tra di truyền có thể hiển thị nếu bạn hoặc đối tác của bạn mang bất kỳ gen nào gây bệnh thalassemia',\n",
       " 'lấy mẫu villus chorionic kiểm tra một mảnh nhỏ của nhau thai để xem em bé có gen gây bệnh thalassemia không',\n",
       " 'xét nghiệm máu có thể phát hiện nếu một người là người vận chuyển hoặc nếu họ bị bệnh thalassemia',\n",
       " 'một lượng máu hoàn chỉnh (cbc): điều này có thể kiểm tra mức độ hemoglobin và mức độ và kích thước của các tế bào hồng cầu.',\n",
       " 'một số lượng reticulocyte: điều này đo lường các tế bào hồng cầu nhanh như thế nào hoặc các vật liệu reticulocytes, được sản xuất và phát hành bởi tủy xương',\n",
       " 'iron: điều này sẽ giúp bác sĩ xác định nguyên nhân thiếu máu, liệu sự thiếu thiển hay thiếu sắt',\n",
       " 'kiểm tra di truyền: phân tích dna sẽ cho thấy một người có thalassemia hay gen bị lỗi',\n",
       " 'thử nghiệm trước khi sinh: điều này có thể cho thấy một thai nhi có thalassemia hay không và nó có thể nghiêm trọng đến mức nào.',\n",
       " 'lấy mẫu villus chorionic (cvs): một miếng nhau thai được loại bỏ để thử nghiệm, thường là khoảng thời gian thứ 11 của thai kỳ.',\n",
       " 'nối ối: một mẫu nhỏ của dịch ối ối được thực hiện để thử nghiệm, thường là trong tuần thứ 16 của thai kỳ.',\n",
       " 'nếu bạn bị thalassemia nhẹ, bạn có thể không cần điều trị',\n",
       " 'các hình thức nghiêm trọng hơn có thể yêu cầu truyền máu thường xuyên',\n",
       " 'thalassemia nhỏ là một hình thức ít nghiêm trọng hơn của rối loạn']"
      ]
     },
     "execution_count": 6,
     "metadata": {},
     "output_type": "execute_result"
    }
   ],
   "source": [
    "list_sentence"
   ]
  },
  {
   "cell_type": "code",
   "execution_count": 7,
   "metadata": {},
   "outputs": [],
   "source": [
    "list_tokens = [tokenize(i) for i in list_sentence]"
   ]
  },
  {
   "cell_type": "code",
   "execution_count": 8,
   "metadata": {},
   "outputs": [],
   "source": [
    "# list_tokens.index('khiến')"
   ]
  },
  {
   "cell_type": "code",
   "execution_count": 9,
   "metadata": {},
   "outputs": [],
   "source": [
    "# tokenize('Ung Thư Gan')"
   ]
  },
  {
   "cell_type": "code",
   "execution_count": 10,
   "metadata": {
    "scrolled": true
   },
   "outputs": [],
   "source": [
    "# tokenize(list_sentence[0])"
   ]
  },
  {
   "cell_type": "code",
   "execution_count": 12,
   "metadata": {},
   "outputs": [
    {
     "data": {
      "text/plain": [
       "2120"
      ]
     },
     "execution_count": 12,
     "metadata": {},
     "output_type": "execute_result"
    }
   ],
   "source": [
    "seqs = [create_seq(i) for i in list_tokens]\n",
    "\n",
    "# merge list-of-lists into a single list\n",
    "seqs = sum(seqs, [])\n",
    "\n",
    "# count of sequences\n",
    "len(seqs)"
   ]
  },
  {
   "cell_type": "code",
   "execution_count": 13,
   "metadata": {},
   "outputs": [],
   "source": [
    "# for item in seqs:\n",
    "#     print(item)\n",
    "#     if 'mệt mỏ' in item:\n",
    "# #         print(item)\n",
    "#         print('='*50)"
   ]
  },
  {
   "cell_type": "code",
   "execution_count": 14,
   "metadata": {},
   "outputs": [],
   "source": [
    "x = []\n",
    "y = []\n",
    "\n",
    "for s in seqs:\n",
    "#     print(s)\n",
    "    x.append(s[:-1])\n",
    "    y.append(s[1:])"
   ]
  },
  {
   "cell_type": "code",
   "execution_count": 15,
   "metadata": {},
   "outputs": [
    {
     "data": {
      "text/plain": [
       "(['ung thư', 'gan', 'là', 'ung thư', 'bắt đầu'],\n",
       " ['gan', 'là', 'ung thư', 'bắt đầu', 'trong'])"
      ]
     },
     "execution_count": 15,
     "metadata": {},
     "output_type": "execute_result"
    }
   ],
   "source": [
    "x[0],y[0]"
   ]
  },
  {
   "cell_type": "code",
   "execution_count": 16,
   "metadata": {},
   "outputs": [],
   "source": [
    "list_tokens_flat = list(set(sum(list_tokens, [])))"
   ]
  },
  {
   "cell_type": "code",
   "execution_count": 17,
   "metadata": {},
   "outputs": [],
   "source": [
    "int2token = {idx:tok for idx, tok in enumerate(list_tokens_flat)}"
   ]
  },
  {
   "cell_type": "code",
   "execution_count": 18,
   "metadata": {},
   "outputs": [],
   "source": [
    "# torch.save(int2token,os.path.join(_RESOURCE_PATH,'int2token_vi.h5'))"
   ]
  },
  {
   "cell_type": "code",
   "execution_count": 19,
   "metadata": {},
   "outputs": [],
   "source": [
    "token2int = {t: i for i, t in int2token.items()}"
   ]
  },
  {
   "cell_type": "code",
   "execution_count": 20,
   "metadata": {},
   "outputs": [],
   "source": [
    "# torch.save(token2int,os.path.join(_RESOURCE_PATH,'token2int_vi.h5'))"
   ]
  },
  {
   "cell_type": "code",
   "execution_count": 21,
   "metadata": {},
   "outputs": [],
   "source": [
    "x_int = [get_integer_seq(token2int,i) for i in x]\n",
    "y_int = [get_integer_seq(token2int,i) for i in y]\n",
    "\n",
    "# convert lists to numpy arrays\n",
    "x_int = np.array(x_int)\n",
    "y_int = np.array(y_int)"
   ]
  },
  {
   "cell_type": "code",
   "execution_count": 23,
   "metadata": {},
   "outputs": [
    {
     "data": {
      "text/plain": [
       "(2120, 5)"
      ]
     },
     "execution_count": 23,
     "metadata": {},
     "output_type": "execute_result"
    }
   ],
   "source": [
    "x_int.shape"
   ]
  },
  {
   "cell_type": "code",
   "execution_count": 24,
   "metadata": {},
   "outputs": [],
   "source": [
    "torch.save(x_int,os.path.join(_RESOURCE_PATH,'x_train.h5'))\n",
    "torch.save(y_int,os.path.join(_RESOURCE_PATH,'y_train.h5'))"
   ]
  }
 ],
 "metadata": {
  "kernelspec": {
   "display_name": "nlg",
   "language": "python",
   "name": "nlg"
  },
  "language_info": {
   "codemirror_mode": {
    "name": "ipython",
    "version": 3
   },
   "file_extension": ".py",
   "mimetype": "text/x-python",
   "name": "python",
   "nbconvert_exporter": "python",
   "pygments_lexer": "ipython3",
   "version": "3.6.13"
  }
 },
 "nbformat": 4,
 "nbformat_minor": 4
}
