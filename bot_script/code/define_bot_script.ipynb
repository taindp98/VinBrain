{
 "cells": [
  {
   "cell_type": "code",
   "execution_count": 1,
   "metadata": {},
   "outputs": [],
   "source": [
    "import pandas as pd\n",
    "import os\n",
    "from glob import glob"
   ]
  },
  {
   "cell_type": "code",
   "execution_count": 2,
   "metadata": {},
   "outputs": [],
   "source": [
    "_DATASET_PATH = '/home/taindp/VINBRAIN_INTERNSHIP/bot_script/data'"
   ]
  },
  {
   "cell_type": "code",
   "execution_count": 3,
   "metadata": {},
   "outputs": [],
   "source": [
    "LIST_DEFINE_INTENT = []"
   ]
  },
  {
   "cell_type": "code",
   "execution_count": 4,
   "metadata": {},
   "outputs": [],
   "source": [
    "# DF_PATTERN['_id'] = [0]\n",
    "# DF_PATTERN['disease'] = ['thalass']\n",
    "# DF_PATTERN['overview'] = [['Thalassemia is an inherited blood disorder']]\n",
    "# DF_PATTERN['symptom'] = [['Fatigue','Weakness','Pale']]\n",
    "# DF_PATTERN['main_type'] = [['alpha-thalass','beta-thalass']]\n",
    "# DF_PATTERN['risk_factor'] = [['African Americans', 'people of Mediterranean']]\n",
    "# DF_PATTERN['cause'] = [['from parent']]\n",
    "# DF_PATTERN['severe'] = [['depend on type']]\n",
    "# DF_PATTERN['method_diagnosis'] = [['blood testing']]\n",
    "# DF_PATTERN['treatment'] = [['blood transfusions']]"
   ]
  },
  {
   "cell_type": "code",
   "execution_count": 5,
   "metadata": {},
   "outputs": [],
   "source": [
    "sub_dict_intent = {}\n",
    "sub_dict_intent['intent'] = 'overview'\n",
    "sub_dict_intent['pattern_question'] = ['what is Thalassemia ?']\n",
    "sub_dict_intent['field_response'] = ['overview']\n",
    "sub_dict_intent['pattern_response'] = ['Thalassemia is an inherited blood disorder']\n",
    "\n",
    "LIST_DEFINE_INTENT.append(sub_dict_intent)"
   ]
  },
  {
   "cell_type": "code",
   "execution_count": 6,
   "metadata": {},
   "outputs": [],
   "source": [
    "sub_dict_intent = {}\n",
    "sub_dict_intent['intent'] = 'symptom'\n",
    "sub_dict_intent['pattern_question'] = ['what is the main symptoms of Thalassemia ?','what are the symptoms of alpha thalassemia ?']\n",
    "sub_dict_intent['field_response'] = ['symptom']\n",
    "sub_dict_intent['pattern_response'] = ['Thalassemia signs and symptoms can include:\\n\\nFatigue\\nWeakness\\nPale or yellowish skin\\nFacial bone deformities\\nSlow growth\\nAbdominal swelling\\nDark urine']\n",
    "\n",
    "LIST_DEFINE_INTENT.append(sub_dict_intent)"
   ]
  },
  {
   "cell_type": "code",
   "execution_count": 7,
   "metadata": {},
   "outputs": [],
   "source": [
    "sub_dict_intent = {}\n",
    "sub_dict_intent['intent'] = 'main_type' \n",
    "sub_dict_intent['pattern_question'] = ['what are the types of thalassemia ?','how can I distinguish the types of thalassemia ?']\n",
    "sub_dict_intent['field_response'] = ['main_type']\n",
    "sub_dict_intent['pattern_response'] = ['In thalassemia, the production of either the alpha or beta chains are reduced, resulting in either alpha-thalassemia or beta-thalassemia']\n",
    "\n",
    "LIST_DEFINE_INTENT.append(sub_dict_intent)"
   ]
  },
  {
   "cell_type": "code",
   "execution_count": 8,
   "metadata": {},
   "outputs": [],
   "source": [
    "sub_dict_intent = {}\n",
    "sub_dict_intent['intent'] = 'risk_factor' \n",
    "sub_dict_intent['pattern_question'] = ['who is at risk for thalassemia ?']\n",
    "sub_dict_intent['field_response'] = ['risk_factor']\n",
    "sub_dict_intent['pattern_response'] = ['Thalassemia occurs most often in African Americans and in people of Mediterranean and Southeast Asian descent.']\n",
    "\n",
    "LIST_DEFINE_INTENT.append(sub_dict_intent)"
   ]
  },
  {
   "cell_type": "code",
   "execution_count": 9,
   "metadata": {},
   "outputs": [],
   "source": [
    "sub_dict_intent = {}\n",
    "sub_dict_intent['intent'] = 'cause' \n",
    "sub_dict_intent['pattern_question'] = ['when this disease occurs ?']\n",
    "sub_dict_intent['field_response'] = ['cause']\n",
    "sub_dict_intent['pattern_response'] = ['The mutations associated with thalassemia are passed from parents to children']\n",
    "\n",
    "LIST_DEFINE_INTENT.append(sub_dict_intent)"
   ]
  },
  {
   "cell_type": "code",
   "execution_count": 10,
   "metadata": {},
   "outputs": [],
   "source": [
    "sub_dict_intent = {}\n",
    "sub_dict_intent['intent'] = 'severe' \n",
    "sub_dict_intent['pattern_question'] = ['Is beta thalassemia serious ?']\n",
    "sub_dict_intent['field_response'] = ['severe']\n",
    "sub_dict_intent['pattern_response'] = ['the severity of thalassemia you have depends on the number of gene mutations you inherit from your parents']\n",
    "\n",
    "LIST_DEFINE_INTENT.append(sub_dict_intent)"
   ]
  },
  {
   "cell_type": "code",
   "execution_count": 11,
   "metadata": {},
   "outputs": [],
   "source": [
    "sub_dict_intent = {}\n",
    "sub_dict_intent['intent'] = 'method_diagnosis' \n",
    "sub_dict_intent['pattern_question'] = ['what kind of methods to diagnosis this disease ?']\n",
    "sub_dict_intent['field_response'] = ['method_diagnosis']\n",
    "sub_dict_intent['pattern_response'] = ['blood tests','Prenatal testing','blood sample','Genetic testing']\n",
    "\n",
    "LIST_DEFINE_INTENT.append(sub_dict_intent)"
   ]
  },
  {
   "cell_type": "code",
   "execution_count": 12,
   "metadata": {},
   "outputs": [],
   "source": [
    "sub_dict_intent = {}\n",
    "sub_dict_intent['intent'] = 'treatment' \n",
    "sub_dict_intent['pattern_question'] = ['How is thalassemia treated ?']\n",
    "\"\"\"\n",
    "treament follow:\n",
    "    + type\n",
    "    + object\n",
    "\"\"\"\n",
    "sub_dict_intent['field_response'] = ['treatment']\n",
    "sub_dict_intent['pattern_response'] = ['do not need treatment','blood transfusions','Chelation therapy']\n",
    "\n",
    "LIST_DEFINE_INTENT.append(sub_dict_intent)"
   ]
  },
  {
   "cell_type": "code",
   "execution_count": 13,
   "metadata": {},
   "outputs": [],
   "source": [
    "df_define_intent = pd.DataFrame(LIST_DEFINE_INTENT)"
   ]
  },
  {
   "cell_type": "code",
   "execution_count": 20,
   "metadata": {},
   "outputs": [],
   "source": [
    "df_define_intent['response_base'] = ['rule','learning','learning','learning','rule','learning','learning','learning']"
   ]
  },
  {
   "cell_type": "code",
   "execution_count": 22,
   "metadata": {},
   "outputs": [
    {
     "data": {
      "text/html": [
       "<div>\n",
       "<style scoped>\n",
       "    .dataframe tbody tr th:only-of-type {\n",
       "        vertical-align: middle;\n",
       "    }\n",
       "\n",
       "    .dataframe tbody tr th {\n",
       "        vertical-align: top;\n",
       "    }\n",
       "\n",
       "    .dataframe thead th {\n",
       "        text-align: right;\n",
       "    }\n",
       "</style>\n",
       "<table border=\"1\" class=\"dataframe\">\n",
       "  <thead>\n",
       "    <tr style=\"text-align: right;\">\n",
       "      <th></th>\n",
       "      <th>intent</th>\n",
       "      <th>pattern_question</th>\n",
       "      <th>field_response</th>\n",
       "      <th>pattern_response</th>\n",
       "      <th>response_base</th>\n",
       "    </tr>\n",
       "  </thead>\n",
       "  <tbody>\n",
       "    <tr>\n",
       "      <th>0</th>\n",
       "      <td>overview</td>\n",
       "      <td>[what is Thalassemia ?]</td>\n",
       "      <td>[overview]</td>\n",
       "      <td>[Thalassemia is an inherited blood disorder]</td>\n",
       "      <td>rule</td>\n",
       "    </tr>\n",
       "    <tr>\n",
       "      <th>1</th>\n",
       "      <td>symptom</td>\n",
       "      <td>[what is the main symptoms of Thalassemia ?, w...</td>\n",
       "      <td>[symptom]</td>\n",
       "      <td>[Thalassemia signs and symptoms can include:\\n...</td>\n",
       "      <td>learning</td>\n",
       "    </tr>\n",
       "    <tr>\n",
       "      <th>2</th>\n",
       "      <td>main_type</td>\n",
       "      <td>[what are the types of thalassemia ?, how can ...</td>\n",
       "      <td>[main_type]</td>\n",
       "      <td>[In thalassemia, the production of either the ...</td>\n",
       "      <td>learning</td>\n",
       "    </tr>\n",
       "    <tr>\n",
       "      <th>3</th>\n",
       "      <td>risk_factor</td>\n",
       "      <td>[who is at risk for thalassemia ?]</td>\n",
       "      <td>[risk_factor]</td>\n",
       "      <td>[Thalassemia occurs most often in African Amer...</td>\n",
       "      <td>learning</td>\n",
       "    </tr>\n",
       "    <tr>\n",
       "      <th>4</th>\n",
       "      <td>cause</td>\n",
       "      <td>[when this disease occurs ?]</td>\n",
       "      <td>[cause]</td>\n",
       "      <td>[The mutations associated with thalassemia are...</td>\n",
       "      <td>rule</td>\n",
       "    </tr>\n",
       "    <tr>\n",
       "      <th>5</th>\n",
       "      <td>severe</td>\n",
       "      <td>[Is beta thalassemia serious ?]</td>\n",
       "      <td>[severe]</td>\n",
       "      <td>[the severity of thalassemia you have depends ...</td>\n",
       "      <td>learning</td>\n",
       "    </tr>\n",
       "    <tr>\n",
       "      <th>6</th>\n",
       "      <td>method_diagnosis</td>\n",
       "      <td>[what kind of methods to diagnosis this diseas...</td>\n",
       "      <td>[method_diagnosis]</td>\n",
       "      <td>[blood tests, Prenatal testing, blood sample, ...</td>\n",
       "      <td>learning</td>\n",
       "    </tr>\n",
       "    <tr>\n",
       "      <th>7</th>\n",
       "      <td>treatment</td>\n",
       "      <td>[How is thalassemia treated ?]</td>\n",
       "      <td>[treatment]</td>\n",
       "      <td>[do not need treatment, blood transfusions, Ch...</td>\n",
       "      <td>learning</td>\n",
       "    </tr>\n",
       "  </tbody>\n",
       "</table>\n",
       "</div>"
      ],
      "text/plain": [
       "             intent                                   pattern_question  \\\n",
       "0          overview                            [what is Thalassemia ?]   \n",
       "1           symptom  [what is the main symptoms of Thalassemia ?, w...   \n",
       "2         main_type  [what are the types of thalassemia ?, how can ...   \n",
       "3       risk_factor                 [who is at risk for thalassemia ?]   \n",
       "4             cause                       [when this disease occurs ?]   \n",
       "5            severe                    [Is beta thalassemia serious ?]   \n",
       "6  method_diagnosis  [what kind of methods to diagnosis this diseas...   \n",
       "7         treatment                     [How is thalassemia treated ?]   \n",
       "\n",
       "       field_response                                   pattern_response  \\\n",
       "0          [overview]       [Thalassemia is an inherited blood disorder]   \n",
       "1           [symptom]  [Thalassemia signs and symptoms can include:\\n...   \n",
       "2         [main_type]  [In thalassemia, the production of either the ...   \n",
       "3       [risk_factor]  [Thalassemia occurs most often in African Amer...   \n",
       "4             [cause]  [The mutations associated with thalassemia are...   \n",
       "5            [severe]  [the severity of thalassemia you have depends ...   \n",
       "6  [method_diagnosis]  [blood tests, Prenatal testing, blood sample, ...   \n",
       "7         [treatment]  [do not need treatment, blood transfusions, Ch...   \n",
       "\n",
       "  response_base  \n",
       "0          rule  \n",
       "1      learning  \n",
       "2      learning  \n",
       "3      learning  \n",
       "4          rule  \n",
       "5      learning  \n",
       "6      learning  \n",
       "7      learning  "
      ]
     },
     "execution_count": 22,
     "metadata": {},
     "output_type": "execute_result"
    }
   ],
   "source": [
    "df_define_intent"
   ]
  },
  {
   "cell_type": "code",
   "execution_count": 15,
   "metadata": {},
   "outputs": [],
   "source": [
    "dict_bot_script = df_define_intent.to_dict('records')"
   ]
  },
  {
   "cell_type": "code",
   "execution_count": 17,
   "metadata": {},
   "outputs": [
    {
     "data": {
      "text/plain": [
       "'/home/taindp/VINBRAIN_INTERNSHIP/bot_script/code'"
      ]
     },
     "execution_count": 17,
     "metadata": {},
     "output_type": "execute_result"
    }
   ],
   "source": [
    "%pwd"
   ]
  },
  {
   "cell_type": "code",
   "execution_count": 19,
   "metadata": {},
   "outputs": [],
   "source": [
    "file_out = open('../data/define_bot_script.json','w')\n",
    "for item in dict_bot_script:\n",
    "    item_str = str(item).replace(r\"'\",r'\"')\n",
    "    file_out.write(item_str)\n",
    "    file_out.write('\\n')"
   ]
  }
 ],
 "metadata": {
  "kernelspec": {
   "display_name": "disease",
   "language": "python",
   "name": "disease"
  },
  "language_info": {
   "codemirror_mode": {
    "name": "ipython",
    "version": 3
   },
   "file_extension": ".py",
   "mimetype": "text/x-python",
   "name": "python",
   "nbconvert_exporter": "python",
   "pygments_lexer": "ipython3",
   "version": "3.6.13"
  }
 },
 "nbformat": 4,
 "nbformat_minor": 4
}
