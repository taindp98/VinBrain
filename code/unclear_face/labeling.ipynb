{
 "cells": [
  {
   "cell_type": "code",
   "execution_count": 1,
   "metadata": {},
   "outputs": [],
   "source": [
    "%load_ext autoreload\n",
    "%autoreload 2\n",
    "import pandas as pd\n",
    "import os\n",
    "from glob import glob\n",
    "\n",
    "from utils import visualize_group"
   ]
  },
  {
   "cell_type": "code",
   "execution_count": 30,
   "metadata": {},
   "outputs": [],
   "source": [
    "_DATA_PATH = '../data'\n",
    "_FOLDER_IMG = '../data/label_10k_imgs/4'\n",
    "_RESOURCE_PATH = '../resource'"
   ]
  },
  {
   "cell_type": "code",
   "execution_count": 3,
   "metadata": {},
   "outputs": [],
   "source": [
    "data_label = sorted(glob(os.path.join(_FOLDER_IMG,'*')))\n",
    "# data_label"
   ]
  },
  {
   "cell_type": "code",
   "execution_count": 4,
   "metadata": {},
   "outputs": [],
   "source": [
    "df_label = pd.DataFrame([])\n",
    "# df_label['path'] = ['/'.join(item.split('/')[2:]) for item in data_label]\n",
    "df_label['path'] = data_label\n",
    "df_label['frontal'] = [0]*len(data_label)\n",
    "df_label['half'] = [0]*len(data_label)\n",
    "df_label['mask'] = [0]*len(data_label)\n",
    "df_label['not_mask'] = [0]*len(data_label)"
   ]
  },
  {
   "cell_type": "code",
   "execution_count": 5,
   "metadata": {},
   "outputs": [
    {
     "data": {
      "text/html": [
       "<div>\n",
       "<style scoped>\n",
       "    .dataframe tbody tr th:only-of-type {\n",
       "        vertical-align: middle;\n",
       "    }\n",
       "\n",
       "    .dataframe tbody tr th {\n",
       "        vertical-align: top;\n",
       "    }\n",
       "\n",
       "    .dataframe thead th {\n",
       "        text-align: right;\n",
       "    }\n",
       "</style>\n",
       "<table border=\"1\" class=\"dataframe\">\n",
       "  <thead>\n",
       "    <tr style=\"text-align: right;\">\n",
       "      <th></th>\n",
       "      <th>path</th>\n",
       "      <th>frontal</th>\n",
       "      <th>half</th>\n",
       "      <th>mask</th>\n",
       "      <th>not_mask</th>\n",
       "    </tr>\n",
       "  </thead>\n",
       "  <tbody>\n",
       "    <tr>\n",
       "      <th>0</th>\n",
       "      <td>../data/label_10k_imgs/4/003736_003790_10.jpg</td>\n",
       "      <td>0</td>\n",
       "      <td>0</td>\n",
       "      <td>0</td>\n",
       "      <td>0</td>\n",
       "    </tr>\n",
       "    <tr>\n",
       "      <th>1</th>\n",
       "      <td>../data/label_10k_imgs/4/003736_003798_10.jpg</td>\n",
       "      <td>0</td>\n",
       "      <td>0</td>\n",
       "      <td>0</td>\n",
       "      <td>0</td>\n",
       "    </tr>\n",
       "    <tr>\n",
       "      <th>2</th>\n",
       "      <td>../data/label_10k_imgs/4/003736_003811_10.jpg</td>\n",
       "      <td>0</td>\n",
       "      <td>0</td>\n",
       "      <td>0</td>\n",
       "      <td>0</td>\n",
       "    </tr>\n",
       "    <tr>\n",
       "      <th>3</th>\n",
       "      <td>../data/label_10k_imgs/4/003737_003773_10.jpg</td>\n",
       "      <td>0</td>\n",
       "      <td>0</td>\n",
       "      <td>0</td>\n",
       "      <td>0</td>\n",
       "    </tr>\n",
       "    <tr>\n",
       "      <th>4</th>\n",
       "      <td>../data/label_10k_imgs/4/003737_003776_10.jpg</td>\n",
       "      <td>0</td>\n",
       "      <td>0</td>\n",
       "      <td>0</td>\n",
       "      <td>0</td>\n",
       "    </tr>\n",
       "  </tbody>\n",
       "</table>\n",
       "</div>"
      ],
      "text/plain": [
       "                                            path  frontal  half  mask  \\\n",
       "0  ../data/label_10k_imgs/4/003736_003790_10.jpg        0     0     0   \n",
       "1  ../data/label_10k_imgs/4/003736_003798_10.jpg        0     0     0   \n",
       "2  ../data/label_10k_imgs/4/003736_003811_10.jpg        0     0     0   \n",
       "3  ../data/label_10k_imgs/4/003737_003773_10.jpg        0     0     0   \n",
       "4  ../data/label_10k_imgs/4/003737_003776_10.jpg        0     0     0   \n",
       "\n",
       "   not_mask  \n",
       "0         0  \n",
       "1         0  \n",
       "2         0  \n",
       "3         0  \n",
       "4         0  "
      ]
     },
     "execution_count": 5,
     "metadata": {},
     "output_type": "execute_result"
    }
   ],
   "source": [
    "df_label.head()"
   ]
  },
  {
   "cell_type": "code",
   "execution_count": 31,
   "metadata": {},
   "outputs": [],
   "source": [
    "df_label.to_csv(os.path.join(_RESOURCE_PATH,'df_label.csv'),header=True,index=False)"
   ]
  },
  {
   "cell_type": "code",
   "execution_count": 39,
   "metadata": {},
   "outputs": [],
   "source": [
    "# step\n",
    "n = 5\n",
    "i=0\n",
    "data_label_group = [sorted(data_label[k:k+n]) for k in range(0, len(data_label), n)]\n",
    "list_frontal = []\n",
    "list_half = []\n",
    "list_mask = []\n",
    "list_not_mask = []"
   ]
  },
  {
   "cell_type": "code",
   "execution_count": 183,
   "metadata": {},
   "outputs": [],
   "source": [
    "# i -= 1\n",
    "# visualize_group(data_label_group[i],i)"
   ]
  },
  {
   "cell_type": "code",
   "execution_count": 339,
   "metadata": {},
   "outputs": [
    {
     "data": {
      "text/plain": [
       "'../data/label_10k_imgs/4/data_4.csv'"
      ]
     },
     "execution_count": 339,
     "metadata": {},
     "output_type": "execute_result"
    }
   ],
   "source": [
    "data_label_group[i].pop(-1)"
   ]
  },
  {
   "cell_type": "code",
   "execution_count": 340,
   "metadata": {},
   "outputs": [
    {
     "data": {
      "image/png": "[encoded data removed]",
      "text/plain": [
       "<Figure size 1440x504 with 4 Axes>"
      ]
     },
     "metadata": {
      "needs_background": "light"
     },
     "output_type": "display_data"
    }
   ],
   "source": [
    "visualize_group(data_label_group[i],i)\n",
    "# i += 1"
   ]
  },
  {
   "cell_type": "code",
   "execution_count": 8,
   "metadata": {},
   "outputs": [],
   "source": [
    "curr_frontal = []\n",
    "curr_half = []\n",
    "curr_mask = []\n",
    "curr_not_mask = []\n",
    "\n",
    "list_frontal.append(curr_frontal)\n",
    "list_half.append(curr_half)\n",
    "list_mask.append(curr_mask)\n",
    "list_not_mask.append(curr_not_mask)"
   ]
  },
  {
   "cell_type": "code",
   "execution_count": 342,
   "metadata": {},
   "outputs": [],
   "source": [
    "# pd.read_csv('../data/label_10k_imgs/4/data_4.csv')"
   ]
  }
 ],
 "metadata": {
  "kernelspec": {
   "display_name": "vision",
   "language": "python",
   "name": "vision"
  },
  "language_info": {
   "codemirror_mode": {
    "name": "ipython",
    "version": 3
   },
   "file_extension": ".py",
   "mimetype": "text/x-python",
   "name": "python",
   "nbconvert_exporter": "python",
   "pygments_lexer": "ipython3",
   "version": "3.6.13"
  }
 },
 "nbformat": 4,
 "nbformat_minor": 4
}
