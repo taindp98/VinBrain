{
 "cells": [
  {
   "cell_type": "code",
   "execution_count": 1,
   "metadata": {},
   "outputs": [],
   "source": [
    "import pandas as pd\n",
    "import json\n",
    "import os\n",
    "from glob import glob"
   ]
  },
  {
   "cell_type": "code",
   "execution_count": 2,
   "metadata": {},
   "outputs": [],
   "source": [
    "_RESOURCE_PATH = '../../resource/stroke'"
   ]
  },
  {
   "cell_type": "code",
   "execution_count": 3,
   "metadata": {},
   "outputs": [
    {
     "data": {
      "text/plain": [
       "['../../resource/stroke/05_22_2021_14_11.json',\n",
       " '../../resource/stroke/05_22_2021_14_14.json',\n",
       " '../../resource/stroke/05_22_2021_14_21.json',\n",
       " '../../resource/stroke/05_22_2021_14_23.json',\n",
       " '../../resource/stroke/05_22_2021_14_24.json',\n",
       " '../../resource/stroke/05_22_2021_14_26.json',\n",
       " '../../resource/stroke/05_22_2021_14_27.json',\n",
       " '../../resource/stroke/05_22_2021_14_29.json',\n",
       " '../../resource/stroke/05_22_2021_14_33.json',\n",
       " '../../resource/stroke/05_22_2021_14_34.json',\n",
       " '../../resource/stroke/05_22_2021_14_37.json',\n",
       " '../../resource/stroke/05_22_2021_14_39.json',\n",
       " '../../resource/stroke/05_22_2021_14_40.json',\n",
       " '../../resource/stroke/05_22_2021_14_41.json',\n",
       " '../../resource/stroke/05_22_2021_14_42.json',\n",
       " '../../resource/stroke/05_22_2021_14_43.json',\n",
       " '../../resource/stroke/05_22_2021_14_47.json',\n",
       " '../../resource/stroke/05_22_2021_14_49.json',\n",
       " '../../resource/stroke/05_22_2021_15_09.json',\n",
       " '../../resource/stroke/05_22_2021_15_10.json',\n",
       " '../../resource/stroke/05_22_2021_15_12.json',\n",
       " '../../resource/stroke/05_22_2021_15_19.json']"
      ]
     },
     "execution_count": 3,
     "metadata": {},
     "output_type": "execute_result"
    }
   ],
   "source": [
    "list_json_file = sorted(glob(os.path.join(_RESOURCE_PATH,'*.json')))\n",
    "list_json_file"
   ]
  },
  {
   "cell_type": "code",
   "execution_count": 4,
   "metadata": {},
   "outputs": [],
   "source": [
    "def load_jsonfile(path):\n",
    "    list_data = []\n",
    "    for line in open(path, 'r'):\n",
    "        try:\n",
    "            list_data.append(json.loads(line))\n",
    "        except:\n",
    "            continue\n",
    "#     df = pd.DataFrame(list_data)\n",
    "#     return df\n",
    "    return list_data"
   ]
  },
  {
   "cell_type": "code",
   "execution_count": 5,
   "metadata": {
    "scrolled": true
   },
   "outputs": [],
   "source": [
    "# df = load_jsonfile(list_json_file[-1])"
   ]
  },
  {
   "cell_type": "code",
   "execution_count": 6,
   "metadata": {},
   "outputs": [],
   "source": [
    "synthesize_question = []\n",
    "\n",
    "for path in list_json_file:\n",
    "    synthesize_question += load_jsonfile(path)"
   ]
  },
  {
   "cell_type": "code",
   "execution_count": 13,
   "metadata": {},
   "outputs": [
    {
     "data": {
      "text/html": [
       "<div>\n",
       "<style scoped>\n",
       "    .dataframe tbody tr th:only-of-type {\n",
       "        vertical-align: middle;\n",
       "    }\n",
       "\n",
       "    .dataframe tbody tr th {\n",
       "        vertical-align: top;\n",
       "    }\n",
       "\n",
       "    .dataframe thead th {\n",
       "        text-align: right;\n",
       "    }\n",
       "</style>\n",
       "<table border=\"1\" class=\"dataframe\">\n",
       "  <thead>\n",
       "    <tr style=\"text-align: right;\">\n",
       "      <th></th>\n",
       "      <th>_id</th>\n",
       "      <th>question</th>\n",
       "      <th>answers</th>\n",
       "    </tr>\n",
       "  </thead>\n",
       "  <tbody>\n",
       "    <tr>\n",
       "      <th>0</th>\n",
       "      <td>beeae70b</td>\n",
       "      <td>How do I take care of a person who suffered st...</td>\n",
       "      <td>It is lovely that you want to learn. Speak wit...</td>\n",
       "    </tr>\n",
       "    <tr>\n",
       "      <th>1</th>\n",
       "      <td>95b1e55d</td>\n",
       "      <td>Is it really true that blood groups other than...</td>\n",
       "      <td>There is an association with heart disease and...</td>\n",
       "    </tr>\n",
       "    <tr>\n",
       "      <th>2</th>\n",
       "      <td>fde6fb92</td>\n",
       "      <td>What are some useful tips for living a normal ...</td>\n",
       "      <td></td>\n",
       "    </tr>\n",
       "    <tr>\n",
       "      <th>3</th>\n",
       "      <td>595a06ea</td>\n",
       "      <td>Is stroke linked to Alzheimer's disease?</td>\n",
       "      <td>No, strokes don’t cause Alzheimer’s.\\nHowever,...</td>\n",
       "    </tr>\n",
       "    <tr>\n",
       "      <th>4</th>\n",
       "      <td>d560ef77</td>\n",
       "      <td>Can you get a stroke from having aortic valve ...</td>\n",
       "      <td>Yes but that depends on what sort of aortic ar...</td>\n",
       "    </tr>\n",
       "    <tr>\n",
       "      <th>...</th>\n",
       "      <td>...</td>\n",
       "      <td>...</td>\n",
       "      <td>...</td>\n",
       "    </tr>\n",
       "    <tr>\n",
       "      <th>3065</th>\n",
       "      <td>61178326</td>\n",
       "      <td>I downvote over half of the pointless question...</td>\n",
       "      <td></td>\n",
       "    </tr>\n",
       "    <tr>\n",
       "      <th>3066</th>\n",
       "      <td>db315dbb</td>\n",
       "      <td>4T diesel engine has cylinder bore of 150mm an...</td>\n",
       "      <td></td>\n",
       "    </tr>\n",
       "    <tr>\n",
       "      <th>3067</th>\n",
       "      <td>30f43768</td>\n",
       "      <td>What are the solutions on water pollution?</td>\n",
       "      <td>A very important question, with so many aspect...</td>\n",
       "    </tr>\n",
       "    <tr>\n",
       "      <th>3068</th>\n",
       "      <td>0600fa95</td>\n",
       "      <td>How can terrorism be eradicated completely?</td>\n",
       "      <td></td>\n",
       "    </tr>\n",
       "    <tr>\n",
       "      <th>3069</th>\n",
       "      <td>c03dd7d2</td>\n",
       "      <td>How does a stroke effect the optical nerve?</td>\n",
       "      <td>Pretty much how any stroke (ischemic infarct o...</td>\n",
       "    </tr>\n",
       "  </tbody>\n",
       "</table>\n",
       "<p>3070 rows × 3 columns</p>\n",
       "</div>"
      ],
      "text/plain": [
       "           _id                                           question  \\\n",
       "0     beeae70b  How do I take care of a person who suffered st...   \n",
       "1     95b1e55d  Is it really true that blood groups other than...   \n",
       "2     fde6fb92  What are some useful tips for living a normal ...   \n",
       "3     595a06ea           Is stroke linked to Alzheimer's disease?   \n",
       "4     d560ef77  Can you get a stroke from having aortic valve ...   \n",
       "...        ...                                                ...   \n",
       "3065  61178326  I downvote over half of the pointless question...   \n",
       "3066  db315dbb  4T diesel engine has cylinder bore of 150mm an...   \n",
       "3067  30f43768         What are the solutions on water pollution?   \n",
       "3068  0600fa95        How can terrorism be eradicated completely?   \n",
       "3069  c03dd7d2        How does a stroke effect the optical nerve?   \n",
       "\n",
       "                                                answers  \n",
       "0     It is lovely that you want to learn. Speak wit...  \n",
       "1     There is an association with heart disease and...  \n",
       "2                                                        \n",
       "3     No, strokes don’t cause Alzheimer’s.\\nHowever,...  \n",
       "4     Yes but that depends on what sort of aortic ar...  \n",
       "...                                                 ...  \n",
       "3065                                                     \n",
       "3066                                                     \n",
       "3067  A very important question, with so many aspect...  \n",
       "3068                                                     \n",
       "3069  Pretty much how any stroke (ischemic infarct o...  \n",
       "\n",
       "[3070 rows x 3 columns]"
      ]
     },
     "execution_count": 13,
     "metadata": {},
     "output_type": "execute_result"
    }
   ],
   "source": [
    "df_synthesize = pd.DataFrame(synthesize_question)\n",
    "df_synthesize"
   ]
  },
  {
   "cell_type": "code",
   "execution_count": 14,
   "metadata": {},
   "outputs": [],
   "source": [
    "df_synthesize.to_csv(os.path.join(_RESOURCE_PATH,'crawl_quora.csv'),header=True,index=False)"
   ]
  },
  {
   "cell_type": "code",
   "execution_count": 12,
   "metadata": {},
   "outputs": [
    {
     "data": {
      "text/plain": [
       "1309"
      ]
     },
     "execution_count": 12,
     "metadata": {},
     "output_type": "execute_result"
    }
   ],
   "source": [
    "len(list(set(list(df_synthesize['answers']))))"
   ]
  },
  {
   "cell_type": "code",
   "execution_count": 8,
   "metadata": {},
   "outputs": [
    {
     "data": {
      "text/html": [
       "<div>\n",
       "<style scoped>\n",
       "    .dataframe tbody tr th:only-of-type {\n",
       "        vertical-align: middle;\n",
       "    }\n",
       "\n",
       "    .dataframe tbody tr th {\n",
       "        vertical-align: top;\n",
       "    }\n",
       "\n",
       "    .dataframe thead th {\n",
       "        text-align: right;\n",
       "    }\n",
       "</style>\n",
       "<table border=\"1\" class=\"dataframe\">\n",
       "  <thead>\n",
       "    <tr style=\"text-align: right;\">\n",
       "      <th></th>\n",
       "      <th>_id</th>\n",
       "      <th>question</th>\n",
       "      <th>answers</th>\n",
       "    </tr>\n",
       "  </thead>\n",
       "  <tbody>\n",
       "    <tr>\n",
       "      <th>0</th>\n",
       "      <td>beeae70b</td>\n",
       "      <td>How do I take care of a person who suffered st...</td>\n",
       "      <td>It is lovely that you want to learn. Speak wit...</td>\n",
       "    </tr>\n",
       "    <tr>\n",
       "      <th>1</th>\n",
       "      <td>95b1e55d</td>\n",
       "      <td>Is it really true that blood groups other than...</td>\n",
       "      <td>There is an association with heart disease and...</td>\n",
       "    </tr>\n",
       "    <tr>\n",
       "      <th>3</th>\n",
       "      <td>595a06ea</td>\n",
       "      <td>Is stroke linked to Alzheimer's disease?</td>\n",
       "      <td>No, strokes don’t cause Alzheimer’s.\\nHowever,...</td>\n",
       "    </tr>\n",
       "    <tr>\n",
       "      <th>4</th>\n",
       "      <td>d560ef77</td>\n",
       "      <td>Can you get a stroke from having aortic valve ...</td>\n",
       "      <td>Yes but that depends on what sort of aortic ar...</td>\n",
       "    </tr>\n",
       "    <tr>\n",
       "      <th>5</th>\n",
       "      <td>947ab37d</td>\n",
       "      <td>What are the exercises to prevent heart diseas...</td>\n",
       "      <td>Sometimes, muscle mass exercise, aerobic exerc...</td>\n",
       "    </tr>\n",
       "    <tr>\n",
       "      <th>...</th>\n",
       "      <td>...</td>\n",
       "      <td>...</td>\n",
       "      <td>...</td>\n",
       "    </tr>\n",
       "    <tr>\n",
       "      <th>3026</th>\n",
       "      <td>27006747</td>\n",
       "      <td>What is two stroke (2T) oil flash point effect...</td>\n",
       "      <td>What is two stroke (2T) oil flash point effect...</td>\n",
       "    </tr>\n",
       "    <tr>\n",
       "      <th>3028</th>\n",
       "      <td>97ef9c0a</td>\n",
       "      <td>After having a mild brain stroke, with no side...</td>\n",
       "      <td>Immediately go and c neurologist.</td>\n",
       "    </tr>\n",
       "    <tr>\n",
       "      <th>3030</th>\n",
       "      <td>258d49de</td>\n",
       "      <td>Ibuprofen seems to help so many people with in...</td>\n",
       "      <td>Drugs have effects ,some you don’t want.Ibupro...</td>\n",
       "    </tr>\n",
       "    <tr>\n",
       "      <th>3067</th>\n",
       "      <td>30f43768</td>\n",
       "      <td>What are the solutions on water pollution?</td>\n",
       "      <td>A very important question, with so many aspect...</td>\n",
       "    </tr>\n",
       "    <tr>\n",
       "      <th>3069</th>\n",
       "      <td>c03dd7d2</td>\n",
       "      <td>How does a stroke effect the optical nerve?</td>\n",
       "      <td>Pretty much how any stroke (ischemic infarct o...</td>\n",
       "    </tr>\n",
       "  </tbody>\n",
       "</table>\n",
       "<p>1462 rows × 3 columns</p>\n",
       "</div>"
      ],
      "text/plain": [
       "           _id                                           question  \\\n",
       "0     beeae70b  How do I take care of a person who suffered st...   \n",
       "1     95b1e55d  Is it really true that blood groups other than...   \n",
       "3     595a06ea           Is stroke linked to Alzheimer's disease?   \n",
       "4     d560ef77  Can you get a stroke from having aortic valve ...   \n",
       "5     947ab37d  What are the exercises to prevent heart diseas...   \n",
       "...        ...                                                ...   \n",
       "3026  27006747  What is two stroke (2T) oil flash point effect...   \n",
       "3028  97ef9c0a  After having a mild brain stroke, with no side...   \n",
       "3030  258d49de  Ibuprofen seems to help so many people with in...   \n",
       "3067  30f43768         What are the solutions on water pollution?   \n",
       "3069  c03dd7d2        How does a stroke effect the optical nerve?   \n",
       "\n",
       "                                                answers  \n",
       "0     It is lovely that you want to learn. Speak wit...  \n",
       "1     There is an association with heart disease and...  \n",
       "3     No, strokes don’t cause Alzheimer’s.\\nHowever,...  \n",
       "4     Yes but that depends on what sort of aortic ar...  \n",
       "5     Sometimes, muscle mass exercise, aerobic exerc...  \n",
       "...                                                 ...  \n",
       "3026  What is two stroke (2T) oil flash point effect...  \n",
       "3028                  Immediately go and c neurologist.  \n",
       "3030  Drugs have effects ,some you don’t want.Ibupro...  \n",
       "3067  A very important question, with so many aspect...  \n",
       "3069  Pretty much how any stroke (ischemic infarct o...  \n",
       "\n",
       "[1462 rows x 3 columns]"
      ]
     },
     "execution_count": 8,
     "metadata": {},
     "output_type": "execute_result"
    }
   ],
   "source": [
    "df_synthesize[df_synthesize['answers']!='']"
   ]
  }
 ],
 "metadata": {
  "kernelspec": {
   "display_name": "nlp",
   "language": "python",
   "name": "nlp"
  },
  "language_info": {
   "codemirror_mode": {
    "name": "ipython",
    "version": 3
   },
   "file_extension": ".py",
   "mimetype": "text/x-python",
   "name": "python",
   "nbconvert_exporter": "python",
   "pygments_lexer": "ipython3",
   "version": "3.6.12"
  }
 },
 "nbformat": 4,
 "nbformat_minor": 4
}
